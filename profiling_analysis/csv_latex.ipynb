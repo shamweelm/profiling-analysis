{
 "cells": [
  {
   "cell_type": "code",
   "execution_count": 1,
   "metadata": {},
   "outputs": [],
   "source": [
    "import pandas as pd"
   ]
  },
  {
   "cell_type": "code",
   "execution_count": null,
   "metadata": {},
   "outputs": [],
   "source": []
  },
  {
   "cell_type": "code",
   "execution_count": 124,
   "metadata": {},
   "outputs": [],
   "source": [
    "file_path = '/Users/shamweelmohammed/Desktop/Masters/Dissertation/Trace/Inference_Server/inference_llama_repo/operations/results/2024_08_11/visualizations/inference_after_model_loading/feed_forward: FeedForward/kernel_functions_summary/inference_block_kernel_functions_summary.csv'"
   ]
  },
  {
   "cell_type": "code",
   "execution_count": 125,
   "metadata": {},
   "outputs": [
    {
     "data": {
      "text/plain": [
       "'Inference_Server/inference_llama_repo/operations/results/2024_08_11/visualizations/inference_after_model_loading/feed_forward: FeedForward/kernel_functions_summary/inference_block_kernel_functions_summary.csv'"
      ]
     },
     "execution_count": 125,
     "metadata": {},
     "output_type": "execute_result"
    }
   ],
   "source": [
    "shortned_file_path = file_path.split('Trace/')[-1]\n",
    "shortned_file_path"
   ]
  },
  {
   "cell_type": "code",
   "execution_count": 126,
   "metadata": {},
   "outputs": [],
   "source": [
    "# Load the CSV file into a DataFrame\n",
    "df = pd.read_csv(file_path)"
   ]
  },
  {
   "cell_type": "code",
   "execution_count": 127,
   "metadata": {},
   "outputs": [],
   "source": [
    "if 'cuda_api' in shortned_file_path:\n",
    "    selected_columns = ['Operation', 'Time (%)', 'Total Time (ns)']\n",
    "elif 'kernel_functions' in shortned_file_path:\n",
    "    selected_columns = ['Kernel Name', 'Count', 'KAvg (ns)']"
   ]
  },
  {
   "cell_type": "code",
   "execution_count": 128,
   "metadata": {},
   "outputs": [
    {
     "data": {
      "text/plain": [
       "['Kernel Name', 'Count', 'KAvg (ns)']"
      ]
     },
     "execution_count": 128,
     "metadata": {},
     "output_type": "execute_result"
    }
   ],
   "source": [
    "selected_columns"
   ]
  },
  {
   "cell_type": "code",
   "execution_count": 129,
   "metadata": {},
   "outputs": [],
   "source": [
    "df = df[selected_columns]"
   ]
  },
  {
   "cell_type": "code",
   "execution_count": 130,
   "metadata": {},
   "outputs": [],
   "source": [
    "# latex_table = df.to_latex(index=False)"
   ]
  },
  {
   "cell_type": "code",
   "execution_count": 131,
   "metadata": {},
   "outputs": [],
   "source": [
    "# Convert the DataFrame to a LaTeX table\n",
    "# Manually create the header with column names enclosed in {}\n",
    "column_headers = [f\"\\\\textbf{{{col}}}\" for col in df.columns]\n",
    "header_line = \" & \".join(column_headers) + \" \\\\\\\\\"\n",
    "\n",
    "# Convert the DataFrame to a LaTeX table with escape=True to handle special characters\n",
    "latex_body = df.to_latex(index=False, column_format='|p{4.5cm}|c|r|', header=False, escape=False)\n",
    "\n",
    "# Remove the repeated column format from the LaTeX body\n",
    "latex_body = latex_body.replace('\\\\begin{tabular}{|p{4.5cm}|c|r|}\\n', '')\n",
    "\n",
    "# Remove top, mid, and bottom rules from the LaTeX body\n",
    "latex_body = latex_body.replace('\\\\toprule\\n', '').replace('\\\\midrule\\n', '').replace('\\\\bottomrule\\n', '')\n",
    "\n",
    "# Construct the full LaTeX table with the manually created header\n",
    "latex_table = (\n",
    "    '\\\\begin{table}[H]\\n\\\\centering\\n'\n",
    "    '\\\\begin{tabular}{|p{4.5cm}|c|r|}\\n\\\\hline\\n'\n",
    "    f'{header_line}\\n\\\\hline\\n'\n",
    "    f'{latex_body}'\n",
    "    '\\\\hline\\n'\n",
    "    '\\\\caption{Caption of the table.}\\n'\n",
    "    '\\\\label{table:label_of_the_table}\\n'\n",
    "    '\\\\end{table}'\n",
    ")\n",
    "\n",
    "# Replace any underscores or percentage symbols in the column names\n",
    "latex_table = latex_table.replace('_', '\\\\_').replace('%', '\\\\%')\n",
    "\n",
    "# Save the LaTeX table to a file\n",
    "with open('table.tex', 'w') as f:\n",
    "    f.write(latex_table)\n"
   ]
  },
  {
   "cell_type": "code",
   "execution_count": 132,
   "metadata": {},
   "outputs": [
    {
     "name": "stdout",
     "output_type": "stream",
     "text": [
      "\\begin{table}[H]\n",
      "\\centering\n",
      "\\begin{tabular}{|p{4.5cm}|c|r|}\n",
      "\\hline\n",
      "\\textbf{Kernel Name} & \\textbf{Count} & \\textbf{KAvg (ns)} \\\\\n",
      "\\hline\n",
      "ampere\\_bf16\\_s16816gemm\\_bf16\\_64x64\\_sliced1x2\\_ldg8\\_f2f\\_stages\\_64x6\\_tn & 1 & 73888.000000 \\\\\n",
      "ampere\\_bf16\\_s16816gemm\\_bf16\\_64x64\\_sliced1x2\\_ldg8\\_f2f\\_stages\\_64x5\\_tn & 2 & 71457.000000 \\\\\n",
      "vectorized\\_elementwise\\_kernel & 2 & 2768.000000 \\\\\n",
      "\\end{tabular}\n",
      "\\hline\n",
      "\\caption{Caption of the table.}\n",
      "\\label{table:label\\_of\\_the\\_table}\n",
      "\\end{table}\n"
     ]
    }
   ],
   "source": [
    "# Print the LaTeX table\n",
    "print(latex_table)"
   ]
  },
  {
   "cell_type": "code",
   "execution_count": null,
   "metadata": {},
   "outputs": [],
   "source": []
  }
 ],
 "metadata": {
  "kernelspec": {
   "display_name": "research",
   "language": "python",
   "name": "python3"
  },
  "language_info": {
   "codemirror_mode": {
    "name": "ipython",
    "version": 3
   },
   "file_extension": ".py",
   "mimetype": "text/x-python",
   "name": "python",
   "nbconvert_exporter": "python",
   "pygments_lexer": "ipython3",
   "version": "3.10.14"
  }
 },
 "nbformat": 4,
 "nbformat_minor": 2
}
