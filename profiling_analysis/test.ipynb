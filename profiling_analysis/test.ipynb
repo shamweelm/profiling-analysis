{
 "cells": [
  {
   "cell_type": "code",
   "execution_count": 12,
   "metadata": {},
   "outputs": [],
   "source": [
    "import re"
   ]
  },
  {
   "cell_type": "code",
   "execution_count": 13,
   "metadata": {},
   "outputs": [],
   "source": [
    "def get_short_kernel_name(kernel_name):\n",
    "    if kernel_name.startswith(\"void \"):\n",
    "        # Extract the function name before the first '<'\n",
    "        pattern = r\"void\\s+(\\w+)(?=\\<)\"\n",
    "        match = re.search(pattern, kernel_name)\n",
    "        if match:\n",
    "            return match.group(1)\n",
    "    else:\n",
    "        # Extract the function name after the last '::'\n",
    "        pattern = r\"::(\\w+)(?=\\<)\"\n",
    "        matches = re.findall(pattern, kernel_name)\n",
    "        if matches:\n",
    "            return matches[-1]\n",
    "\n",
    "    return None"
   ]
  },
  {
   "cell_type": "code",
   "execution_count": 14,
   "metadata": {},
   "outputs": [
    {
     "name": "stdout",
     "output_type": "stream",
     "text": [
      "Short kernel name for case 1: kernel\n",
      "Short kernel name for case 2: gemv2T_kernel_val\n",
      "Short kernel name for case 3: None\n"
     ]
    }
   ],
   "source": [
    "# Test cases\n",
    "kernel_name1 = \"std::enable_if<!T7, void>::type internal::gemvx::kernel<int, int, float, float, float, float, (bool)0, (bool)1, (bool)1, (bool)0, (int)7, (bool)0, cublasGemvParamsEx<int, cublasGemvTensorStridedBatched<const float>, cublasGemvTensorStridedBatched<const float>, cublasGemvTensorStridedBatched<float>, float>>(T13)\"\n",
    "kernel_name2 = \"void gemv2T_kernel_val<int, int, float, float, float, float, (int)128, (int)16, (int)4, (int)4, (bool)0, (bool)0, cublasGemvParamsEx<int, cublasGemvTensorStridedBatched<const float>, cublasGemvTensorStridedBatched<const float>, cublasGemvTensorStridedBatched<float>, float>>(T13, T6, T6)\"\n",
    "kernel_name3 = \"void at::native::vectorized_elementwise_kernel<(int)4, at::native::bitwise_not_kernel_cuda(at::TensorIteratorBase &)::[lambda(bool) (instance 1)], at::detail::Array<char *, (int)2>>(int, T2, T3)\"\n",
    "\n",
    "# Get the short kernel names\n",
    "short_kernel_name1 = get_short_kernel_name(kernel_name1)\n",
    "short_kernel_name2 = get_short_kernel_name(kernel_name2)\n",
    "short_kernel_name3 = get_short_kernel_name(kernel_name3)\n",
    "\n",
    "print(f\"Short kernel name for case 1: {short_kernel_name1}\")\n",
    "print(f\"Short kernel name for case 2: {short_kernel_name2}\")\n",
    "print(f\"Short kernel name for case 3: {short_kernel_name3}\")"
   ]
  },
  {
   "cell_type": "code",
   "execution_count": null,
   "metadata": {},
   "outputs": [],
   "source": []
  }
 ],
 "metadata": {
  "kernelspec": {
   "display_name": "research",
   "language": "python",
   "name": "python3"
  },
  "language_info": {
   "codemirror_mode": {
    "name": "ipython",
    "version": 3
   },
   "file_extension": ".py",
   "mimetype": "text/x-python",
   "name": "python",
   "nbconvert_exporter": "python",
   "pygments_lexer": "ipython3",
   "version": "3.10.14"
  }
 },
 "nbformat": 4,
 "nbformat_minor": 2
}
